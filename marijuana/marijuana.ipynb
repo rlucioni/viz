{
 "metadata": {
  "name": ""
 },
 "nbformat": 3,
 "nbformat_minor": 0,
 "worksheets": [
  {
   "cells": [
    {
     "cell_type": "markdown",
     "metadata": {},
     "source": [
      "By Renzo Lucioni (renzolucioni.com, @RenzoLucioni)"
     ]
    },
    {
     "cell_type": "code",
     "collapsed": false,
     "input": [
      "%matplotlib inline\n",
      "\n",
      "import pandas as pd\n",
      "import numpy as np\n",
      "import matplotlib.pyplot as plt\n",
      "import math\n",
      "import datetime\n",
      "import simplemapplot\n",
      "\n",
      "# set some nicer defaults for matplotlib\n",
      "from matplotlib import rcParams\n",
      "\n",
      "#these colors come from colorbrewer2.org. Each is an RGB triplet\n",
      "dark2_colors = [(0.10588235294117647, 0.6196078431372549, 0.4666666666666667),\n",
      "                (0.8509803921568627, 0.37254901960784315, 0.00784313725490196),\n",
      "                (0.4588235294117647, 0.4392156862745098, 0.7019607843137254),\n",
      "                (0.9058823529411765, 0.1607843137254902, 0.5411764705882353),\n",
      "                (0.4, 0.6509803921568628, 0.11764705882352941),\n",
      "                (0.9019607843137255, 0.6705882352941176, 0.00784313725490196),\n",
      "                (0.6509803921568628, 0.4627450980392157, 0.11372549019607843),\n",
      "                (0.4, 0.4, 0.4)]\n",
      "\n",
      "rcParams['figure.figsize'] = (10, 6)\n",
      "rcParams['figure.dpi'] = 150\n",
      "rcParams['axes.color_cycle'] = dark2_colors\n",
      "rcParams['lines.linewidth'] = 2\n",
      "rcParams['axes.grid'] = False\n",
      "rcParams['axes.facecolor'] = 'white'\n",
      "rcParams['font.size'] = 14\n",
      "rcParams['patch.edgecolor'] = 'none'\n",
      "rcParams['font.family'] = 'sans-serif'\n",
      "rcParams['font.sans-serif'] = 'Helvetica'\n",
      "\n",
      "def remove_border(axes=None, top=False, right=False, left=True, bottom=True):\n",
      "    \"\"\"\n",
      "    Minimize chartjunk by stripping out unnecessary plot borders and axis ticks\n",
      "    \n",
      "    The top/right/left/bottom keywords toggle whether the corresponding plot border is drawn\n",
      "    \"\"\"\n",
      "    ax = axes or plt.gca()\n",
      "    ax.spines['top'].set_visible(top)\n",
      "    ax.spines['right'].set_visible(right)\n",
      "    ax.spines['left'].set_visible(left)\n",
      "    ax.spines['bottom'].set_visible(bottom)\n",
      "    \n",
      "    #turn off all ticks\n",
      "    ax.yaxis.set_ticks_position('none')\n",
      "    ax.xaxis.set_ticks_position('none')\n",
      "    \n",
      "    #now re-enable visibles\n",
      "    if top:\n",
      "        ax.xaxis.tick_top()\n",
      "    if bottom:\n",
      "        ax.xaxis.tick_bottom()\n",
      "    if left:\n",
      "        ax.yaxis.tick_left()\n",
      "    if right:\n",
      "        ax.yaxis.tick_right()"
     ],
     "language": "python",
     "metadata": {},
     "outputs": [],
     "prompt_number": 1
    },
    {
     "cell_type": "markdown",
     "metadata": {},
     "source": [
      "---\n",
      "*css tweaks in this cell*\n",
      "<style>\n",
      "div.text_cell_render {\n",
      "    line-height: 150%;\n",
      "    font-size: 110%;\n",
      "    width: 800px;\n",
      "    margin-left:50px;\n",
      "    margin-right:auto;\n",
      "    }\n",
      "</style>"
     ]
    },
    {
     "cell_type": "code",
     "collapsed": false,
     "input": [
      "# testing SimpleMapPlot\n",
      "# example_colors = [\"#FC8D59\",\"#FFFFBF\",\"#99D594\"]\n",
      "# state_value = {\"TX\":2, \"WI\":1, \"IL\":1, \"AK\":0, \"MI\":0, \"HI\":2}\n",
      "# simplemapplot.make_us_state_map(data=state_value, colors=example_colors, output_img=\"test_map.svg\")"
     ],
     "language": "python",
     "metadata": {},
     "outputs": [],
     "prompt_number": 2
    },
    {
     "cell_type": "code",
     "collapsed": false,
     "input": [
      "to_grams = {\n",
      "    \"an ounce\": 28.3,\n",
      "    \"25 grams\": 25,\n",
      "    \"20 grams\": 20,\n",
      "    \"15 grams\": 15,\n",
      "    \"a half ounce\": 14.15,\n",
      "    \"10 grams\": 10,\n",
      "    \"a quarter\": 7.075,\n",
      "    \"5 grams\": 5,\n",
      "    \"an eighth\": 3.54,\n",
      "    \"a gram\": 1\n",
      "}"
     ],
     "language": "python",
     "metadata": {},
     "outputs": [],
     "prompt_number": 3
    },
    {
     "cell_type": "code",
     "collapsed": false,
     "input": [
      "code_to_state = {\n",
      "    'AK': 'Alaska',\n",
      "    'AL': 'Alabama',\n",
      "    'AR': 'Arkansas',\n",
      "    'AZ': 'Arizona',\n",
      "    'CA': 'California',\n",
      "    'CO': 'Colorado',\n",
      "    'CT': 'Connecticut',\n",
      "    'DE': 'Delaware',\n",
      "    'FL': 'Florida',\n",
      "    'GA': 'Georgia',\n",
      "    'HI': 'Hawaii',\n",
      "    'IA': 'Iowa',\n",
      "    'ID': 'Idaho',\n",
      "    'IL': 'Illinois',\n",
      "    'IN': 'Indiana',\n",
      "    'KS': 'Kansas',\n",
      "    'KY': 'Kentucky',\n",
      "    'LA': 'Louisiana',\n",
      "    'MA': 'Massachusetts',\n",
      "    'MD': 'Maryland',\n",
      "    'ME': 'Maine',\n",
      "    'MI': 'Michigan',\n",
      "    'MN': 'Minnesota',\n",
      "    'MO': 'Missouri',\n",
      "    'MS': 'Mississippi',\n",
      "    'MT': 'Montana',\n",
      "    'NC': 'North Carolina',\n",
      "    'ND': 'North Dakota',\n",
      "    'NE': 'Nebraska',\n",
      "    'NH': 'New Hampshire',\n",
      "    'NJ': 'New Jersey',\n",
      "    'NM': 'New Mexico',\n",
      "    'NV': 'Nevada',\n",
      "    'NY': 'New York',\n",
      "    'OH': 'Ohio',\n",
      "    'OK': 'Oklahoma',\n",
      "    'OR': 'Oregon',\n",
      "    'PA': 'Pennsylvania',\n",
      "    'RI': 'Rhode Island',\n",
      "    'SC': 'South Carolina',\n",
      "    'SD': 'South Dakota',\n",
      "    'TN': 'Tennessee',\n",
      "    'TX': 'Texas',\n",
      "    'UT': 'Utah',\n",
      "    'VA': 'Virginia',\n",
      "    'VT': 'Vermont',\n",
      "    'WA': 'Washington',\n",
      "    'WI': 'Wisconsin',\n",
      "    'WV': 'West Virginia',\n",
      "    'WY': 'Wyoming'\n",
      "}"
     ],
     "language": "python",
     "metadata": {},
     "outputs": [],
     "prompt_number": 4
    },
    {
     "cell_type": "code",
     "collapsed": false,
     "input": [
      "state_to_code = dict((v,k) for k,v in code_to_state.iteritems())"
     ],
     "language": "python",
     "metadata": {},
     "outputs": [],
     "prompt_number": 5
    },
    {
     "cell_type": "markdown",
     "metadata": {},
     "source": [
      "First step is to clean Hawaii and Alaska raw data, and add that to the cleaned data."
     ]
    },
    {
     "cell_type": "code",
     "collapsed": false,
     "input": [
      "# hi_ak_raw = pd.read_csv('data/hi_ak_raw.csv')"
     ],
     "language": "python",
     "metadata": {},
     "outputs": [],
     "prompt_number": 6
    },
    {
     "cell_type": "code",
     "collapsed": false,
     "input": [
      "# hi_ak_raw.head()"
     ],
     "language": "python",
     "metadata": {},
     "outputs": [],
     "prompt_number": 7
    },
    {
     "cell_type": "code",
     "collapsed": false,
     "input": [
      "# hi_ak_raw.shape"
     ],
     "language": "python",
     "metadata": {},
     "outputs": [],
     "prompt_number": 8
    },
    {
     "cell_type": "code",
     "collapsed": false,
     "input": [
      "# cities = [location.split(',')[0] for location in hi_ak_raw.location]\n",
      "# state_names = [location.split(',')[1] for location in hi_ak_raw.location]\n",
      "# state_codes = [state_to_code[name] for name in state_names]\n",
      "\n",
      "# prices = [price.split('$')[1] for price in hi_ak_raw.price]\n",
      "# amounts = [to_grams[amount] for amount in hi_ak_raw.amount]\n",
      "# ppgs = [round(float(price)/amount, 2) for price, amount in zip(prices, amounts)]\n",
      "\n",
      "# qualities = [quality.split()[0] for quality in hi_ak_raw.quality]\n",
      "\n",
      "# dates = [str(datetime.datetime.strptime(date, \"%B %d, %Y\").date()) for date in hi_ak_raw.date]\n",
      "    \n",
      "# hi_ak_clean = pd.DataFrame({\n",
      "#     'city': cities, \n",
      "#     'state': state_codes, \n",
      "#     'price': prices, \n",
      "#     'amount': amounts,\n",
      "#     'quality': qualities,\n",
      "#     'date': dates,\n",
      "#     'ppg': ppgs,\n",
      "#     'state.name': state_names\n",
      "# })"
     ],
     "language": "python",
     "metadata": {},
     "outputs": [],
     "prompt_number": 9
    },
    {
     "cell_type": "code",
     "collapsed": false,
     "input": [
      "# hi_ak_clean.head()"
     ],
     "language": "python",
     "metadata": {},
     "outputs": [],
     "prompt_number": 10
    },
    {
     "cell_type": "code",
     "collapsed": false,
     "input": [
      "# hi_ak_clean.to_csv('data/hi_ak_clean.csv')"
     ],
     "language": "python",
     "metadata": {},
     "outputs": [],
     "prompt_number": 11
    },
    {
     "cell_type": "markdown",
     "metadata": {},
     "source": [
      "Next, combine with cleaned data from other states, dropping `lat` and `lon`."
     ]
    },
    {
     "cell_type": "code",
     "collapsed": false,
     "input": [
      "# partial_clean_data = pd.read_csv('data/clean.csv')"
     ],
     "language": "python",
     "metadata": {},
     "outputs": [],
     "prompt_number": 12
    },
    {
     "cell_type": "code",
     "collapsed": false,
     "input": [
      "# partial_clean_data.head()"
     ],
     "language": "python",
     "metadata": {},
     "outputs": [],
     "prompt_number": 13
    },
    {
     "cell_type": "code",
     "collapsed": false,
     "input": [
      "# partial_clean_data.shape"
     ],
     "language": "python",
     "metadata": {},
     "outputs": [],
     "prompt_number": 14
    },
    {
     "cell_type": "code",
     "collapsed": false,
     "input": [
      "# trimmed_partial_clean_data = partial_clean_data.drop('lat',1)\n",
      "# trimmed_partial_clean_data = trimmed_partial_clean_data.drop('lon',1)\n",
      "# trimmed_partial_clean_data.head()"
     ],
     "language": "python",
     "metadata": {},
     "outputs": [],
     "prompt_number": 15
    },
    {
     "cell_type": "code",
     "collapsed": false,
     "input": [
      "# trimmed_partial_clean_data.shape"
     ],
     "language": "python",
     "metadata": {},
     "outputs": [],
     "prompt_number": 16
    },
    {
     "cell_type": "code",
     "collapsed": false,
     "input": [
      "# clean_data = trimmed_partial_clean_data.append(hi_ak_clean, ignore_index=True)\n",
      "# clean_data.head()"
     ],
     "language": "python",
     "metadata": {},
     "outputs": [],
     "prompt_number": 17
    },
    {
     "cell_type": "code",
     "collapsed": false,
     "input": [
      "# clean_data.shape"
     ],
     "language": "python",
     "metadata": {},
     "outputs": [],
     "prompt_number": 18
    },
    {
     "cell_type": "code",
     "collapsed": false,
     "input": [
      "# clean_data.to_csv('data/complete_clean.csv')"
     ],
     "language": "python",
     "metadata": {},
     "outputs": [],
     "prompt_number": 19
    },
    {
     "cell_type": "markdown",
     "metadata": {},
     "source": [
      "Read in complete cleaned data here, to avoid re-cleaning every time this notebook is opened."
     ]
    },
    {
     "cell_type": "code",
     "collapsed": false,
     "input": [
      "clean_data = pd.read_csv('data/complete_clean.csv')\n",
      "clean_data = clean_data.drop('Unnamed: 0',1)\n",
      "clean_data.head()"
     ],
     "language": "python",
     "metadata": {},
     "outputs": [
      {
       "html": [
        "<div style=\"max-height:1000px;max-width:1500px;overflow:auto;\">\n",
        "<table border=\"1\" class=\"dataframe\">\n",
        "  <thead>\n",
        "    <tr style=\"text-align: right;\">\n",
        "      <th></th>\n",
        "      <th>amount</th>\n",
        "      <th>city</th>\n",
        "      <th>date</th>\n",
        "      <th>ppg</th>\n",
        "      <th>price</th>\n",
        "      <th>quality</th>\n",
        "      <th>state</th>\n",
        "      <th>state.name</th>\n",
        "    </tr>\n",
        "  </thead>\n",
        "  <tbody>\n",
        "    <tr>\n",
        "      <th>0</th>\n",
        "      <td>  7.075</td>\n",
        "      <td>  Annandale</td>\n",
        "      <td> 2010-09-02</td>\n",
        "      <td> 14.13</td>\n",
        "      <td> 100</td>\n",
        "      <td>   high</td>\n",
        "      <td> VA</td>\n",
        "      <td>       Virginia</td>\n",
        "    </tr>\n",
        "    <tr>\n",
        "      <th>1</th>\n",
        "      <td> 28.300</td>\n",
        "      <td>     Auburn</td>\n",
        "      <td> 2010-09-02</td>\n",
        "      <td>  2.12</td>\n",
        "      <td>  60</td>\n",
        "      <td>   high</td>\n",
        "      <td> AL</td>\n",
        "      <td>        Alabama</td>\n",
        "    </tr>\n",
        "    <tr>\n",
        "      <th>2</th>\n",
        "      <td> 28.300</td>\n",
        "      <td>     Austin</td>\n",
        "      <td> 2010-09-02</td>\n",
        "      <td>  2.12</td>\n",
        "      <td>  60</td>\n",
        "      <td> medium</td>\n",
        "      <td> TX</td>\n",
        "      <td>          Texas</td>\n",
        "    </tr>\n",
        "    <tr>\n",
        "      <th>3</th>\n",
        "      <td> 28.300</td>\n",
        "      <td> Belleville</td>\n",
        "      <td> 2010-09-02</td>\n",
        "      <td> 14.13</td>\n",
        "      <td> 400</td>\n",
        "      <td>   high</td>\n",
        "      <td> IL</td>\n",
        "      <td>       Illinois</td>\n",
        "    </tr>\n",
        "    <tr>\n",
        "      <th>4</th>\n",
        "      <td>  3.540</td>\n",
        "      <td>      Boone</td>\n",
        "      <td> 2010-09-02</td>\n",
        "      <td> 15.54</td>\n",
        "      <td>  55</td>\n",
        "      <td>   high</td>\n",
        "      <td> NC</td>\n",
        "      <td> North Carolina</td>\n",
        "    </tr>\n",
        "  </tbody>\n",
        "</table>\n",
        "</div>"
       ],
       "metadata": {},
       "output_type": "pyout",
       "prompt_number": 20,
       "text": [
        "   amount        city        date    ppg  price quality state      state.name\n",
        "0   7.075   Annandale  2010-09-02  14.13    100    high    VA        Virginia\n",
        "1  28.300      Auburn  2010-09-02   2.12     60    high    AL         Alabama\n",
        "2  28.300      Austin  2010-09-02   2.12     60  medium    TX           Texas\n",
        "3  28.300  Belleville  2010-09-02  14.13    400    high    IL        Illinois\n",
        "4   3.540       Boone  2010-09-02  15.54     55    high    NC  North Carolina"
       ]
      }
     ],
     "prompt_number": 20
    },
    {
     "cell_type": "code",
     "collapsed": false,
     "input": [
      "clean_data.shape"
     ],
     "language": "python",
     "metadata": {},
     "outputs": [
      {
       "metadata": {},
       "output_type": "pyout",
       "prompt_number": 21,
       "text": [
        "(134501, 8)"
       ]
      }
     ],
     "prompt_number": 21
    },
    {
     "cell_type": "markdown",
     "metadata": {},
     "source": [
      "Next step is to use the complete cleaned data to calculate the average `ppg` per state, by year and by quality. These will be used to assemble the 12 choropleth maps."
     ]
    },
    {
     "cell_type": "code",
     "collapsed": false,
     "input": [
      "years = ['2010', '2011', '2012', '2013']\n",
      "quality_types = ['low', 'medium', 'high']"
     ],
     "language": "python",
     "metadata": {},
     "outputs": [],
     "prompt_number": 22
    },
    {
     "cell_type": "code",
     "collapsed": false,
     "input": [
      "avg_ppg = {}\n",
      "\n",
      "for year in years:\n",
      "    avg_ppg[year] = {}\n",
      "    \n",
      "    for quality_type in quality_types:\n",
      "        avg_ppg[year][quality_type] = {}\n",
      "        \n",
      "        for state_code in code_to_state.keys():\n",
      "            mean_ppg = np.mean(clean_data[\n",
      "                (clean_data['date'] >= year) & \n",
      "                (clean_data['date'] < str(int(year)+1)) & \n",
      "                (clean_data.quality == quality_type) & \n",
      "                (clean_data.state == state_code)\n",
      "            ].ppg)\n",
      "            \n",
      "            avg_ppg[year][quality_type][state_code] = round(mean_ppg, 2)"
     ],
     "language": "python",
     "metadata": {},
     "outputs": [],
     "prompt_number": 23
    },
    {
     "cell_type": "markdown",
     "metadata": {},
     "source": [
      "Now we need to decide how many color classes to use in the choropleth map, and where the boundaries of these bins will be. To do that, let's take a look at the distribution of prices."
     ]
    },
    {
     "cell_type": "code",
     "collapsed": false,
     "input": [
      "def plot_price_distributions(year):\n",
      "    plt.figure(figsize=(15,6))\n",
      "    \n",
      "    plt.subplot(131)\n",
      "    plt.hist([v for v in avg_ppg[year]['low'].values() if not math.isnan(v)])\n",
      "    plt.title(\"{} quality, {}\".format('low', year))\n",
      "    plt.xlabel(\"Price ($)\")\n",
      "    plt.ylabel(\"States\")\n",
      "    remove_border()\n",
      "    \n",
      "    plt.subplot(132)\n",
      "    plt.hist([v for v in avg_ppg[year]['medium'].values() if not math.isnan(v)])\n",
      "    plt.title(\"{} quality, {}\".format('medium', year))\n",
      "    plt.xlabel(\"Price ($)\")\n",
      "    plt.ylabel(\"States\")\n",
      "    remove_border()\n",
      "    \n",
      "    plt.subplot(133)\n",
      "    plt.hist([v for v in avg_ppg[year]['high'].values() if not math.isnan(v)])\n",
      "    plt.title(\"{} quality, {}\".format('high', year))\n",
      "    plt.xlabel(\"Price ($)\")\n",
      "    plt.ylabel(\"States\")\n",
      "    remove_border()\n",
      "    \n",
      "    plt.tight_layout()"
     ],
     "language": "python",
     "metadata": {},
     "outputs": [],
     "prompt_number": 24
    },
    {
     "cell_type": "code",
     "collapsed": false,
     "input": [
      "plot_price_distributions('2010')"
     ],
     "language": "python",
     "metadata": {},
     "outputs": [
      {
       "output_type": "stream",
       "stream": "stderr",
       "text": [
        "/Users/rlucioni/anaconda/python.app/Contents/lib/python2.7/site-packages/matplotlib/font_manager.py:1236: UserWarning: findfont: Font family ['sans-serif'] not found. Falling back to Bitstream Vera Sans\n",
        "  (prop.get_family(), self.defaultFamily[fontext]))\n"
       ]
      },
      {
       "metadata": {},
       "output_type": "display_data",
       "png": "[encoded data removed]",
       "text": [
        "<matplotlib.figure.Figure at 0x106f6dad0>"
       ]
      }
     ],
     "prompt_number": 25
    },
    {
     "cell_type": "code",
     "collapsed": false,
     "input": [
      "plot_price_distributions('2011')"
     ],
     "language": "python",
     "metadata": {},
     "outputs": [
      {
       "metadata": {},
       "output_type": "display_data",
       "png": "[encoded data removed]",
       "text": [
        "<matplotlib.figure.Figure at 0x1070025d0>"
       ]
      }
     ],
     "prompt_number": 26
    },
    {
     "cell_type": "code",
     "collapsed": false,
     "input": [
      "plot_price_distributions('2012')"
     ],
     "language": "python",
     "metadata": {},
     "outputs": [
      {
       "metadata": {},
       "output_type": "display_data",
       "png": "[encoded data removed]",
       "text": [
        "<matplotlib.figure.Figure at 0x106f7ca90>"
       ]
      }
     ],
     "prompt_number": 27
    },
    {
     "cell_type": "code",
     "collapsed": false,
     "input": [
      "plot_price_distributions('2013')"
     ],
     "language": "python",
     "metadata": {},
     "outputs": [
      {
       "metadata": {},
       "output_type": "display_data",
       "png": "[encoded data removed]",
       "text": [
        "<matplotlib.figure.Figure at 0x106fe75d0>"
       ]
      }
     ],
     "prompt_number": 28
    },
    {
     "cell_type": "code",
     "collapsed": false,
     "input": [
      "def aggregate_prices(year):\n",
      "    low_prices = [v for v in avg_ppg[year]['low'].values() if not math.isnan(v)]\n",
      "    medium_prices = [v for v in avg_ppg[year]['medium'].values() if not math.isnan(v)]\n",
      "    high_prices = [v for v in avg_ppg[year]['high'].values() if not math.isnan(v)]\n",
      "    prices = low_prices + medium_prices + high_prices\n",
      "    return prices\n"
     ],
     "language": "python",
     "metadata": {},
     "outputs": [],
     "prompt_number": 29
    },
    {
     "cell_type": "code",
     "collapsed": false,
     "input": [
      "prices_2010 = aggregate_prices('2010')\n",
      "prices_2011 = aggregate_prices('2011')\n",
      "prices_2012 = aggregate_prices('2012')\n",
      "prices_2013 = aggregate_prices('2013')\n",
      "\n",
      "all_prices = prices_2010 + prices_2011 + prices_2012 + prices_2013\n",
      "\n",
      "plt.figure(figsize=(17,7))\n",
      "    \n",
      "plt.subplot(131)\n",
      "n_0, bins_0, patches_0 = plt.hist(all_prices, bins=5)\n",
      "plt.title(\"Distribution of Aggregate Prices\")\n",
      "plt.xlabel(\"Price ($)\")\n",
      "plt.ylabel(\"States\")\n",
      "remove_border()\n",
      "\n",
      "plt.subplot(132)\n",
      "n_1, bins_1, patches_1 = plt.hist(all_prices, bins=6)\n",
      "plt.title(\"Distribution of Aggregate Prices\")\n",
      "plt.xlabel(\"Price ($)\")\n",
      "plt.ylabel(\"States\")\n",
      "remove_border()\n",
      "\n",
      "plt.subplot(133)\n",
      "n_2, bins_2, patches_2 = plt.hist(all_prices, bins=7)\n",
      "plt.title(\"Distribution of Aggregate Prices\")\n",
      "plt.xlabel(\"Price ($)\")\n",
      "plt.ylabel(\"States\")\n",
      "remove_border()"
     ],
     "language": "python",
     "metadata": {},
     "outputs": [
      {
       "metadata": {},
       "output_type": "display_data",
       "png": "[encoded data removed]",
       "text": [
        "<matplotlib.figure.Figure at 0x10709ea90>"
       ]
      }
     ],
     "prompt_number": 30
    },
    {
     "cell_type": "markdown",
     "metadata": {},
     "source": [
      "I like 7 bins. Let's get the edges."
     ]
    },
    {
     "cell_type": "code",
     "collapsed": false,
     "input": [
      "print bins_2"
     ],
     "language": "python",
     "metadata": {},
     "outputs": [
      {
       "output_type": "stream",
       "stream": "stdout",
       "text": [
        "[  1.77   4.04   6.31   8.58  10.85  13.12  15.39  17.66]\n"
       ]
      }
     ],
     "prompt_number": 31
    },
    {
     "cell_type": "markdown",
     "metadata": {},
     "source": [
      "Now we can make our choropleth maps using SimpleMapPlot."
     ]
    },
    {
     "cell_type": "code",
     "collapsed": false,
     "input": [
      "# generated using ColorBrewer at http://colorbrewer2.org/\n",
      "color_classes = [\n",
      "    '#edf8fb', \n",
      "    '#ccece6', \n",
      "    '#99d8c9', \n",
      "    '#66c2a4', \n",
      "    '#41ae76', \n",
      "    '#238b45', \n",
      "    '#005824',\n",
      "    # dark grey, for missing data\n",
      "    '#969696'\n",
      "]\n",
      "\n",
      "alt_color_classes = [\n",
      "    '#ffffcc',\n",
      "    '#d9f0a3',\n",
      "    '#addd8e',\n",
      "    '#78c679',\n",
      "    '#41ab5d',\n",
      "    '#238443',\n",
      "    '#005a32',\n",
      "    # dark grey, for missing data\n",
      "    '#969696'\n",
      "]"
     ],
     "language": "python",
     "metadata": {},
     "outputs": [],
     "prompt_number": 32
    },
    {
     "cell_type": "code",
     "collapsed": false,
     "input": [
      "# for year in years:\n",
      "#     for quality_type in quality_types:\n",
      "#         state_class = {}\n",
      "        \n",
      "#         for state_code in code_to_state.keys():\n",
      "#             ppg = avg_ppg[year][quality_type][state_code]\n",
      "            \n",
      "#             if math.isnan(ppg):\n",
      "#                 state_class[state_code] = 7\n",
      "#                 continue\n",
      "            \n",
      "#             if (ppg >= bins_2[0]) and (ppg < bins_2[1]):\n",
      "#                 state_class[state_code] = 0\n",
      "#             elif (ppg >= bins_2[1]) and (ppg < bins_2[2]):\n",
      "#                 state_class[state_code] = 1\n",
      "#             elif (ppg >= bins_2[2]) and (ppg < bins_2[3]):\n",
      "#                 state_class[state_code] = 2\n",
      "#             elif (ppg >= bins_2[3]) and (ppg < bins_2[4]):\n",
      "#                 state_class[state_code] = 3\n",
      "#             elif (ppg >= bins_2[4]) and (ppg < bins_2[5]):\n",
      "#                 state_class[state_code] = 4\n",
      "#             elif (ppg >= bins_2[5]) and (ppg < bins_2[6]):\n",
      "#                 state_class[state_code] = 5\n",
      "#             else:\n",
      "#                 state_class[state_code] = 6\n",
      "                \n",
      "#         simplemapplot.make_us_state_map(data=state_class, colors=color_classes, output_img=\"{}_{}.svg\".format(year, quality_type))\n"
     ],
     "language": "python",
     "metadata": {},
     "outputs": [],
     "prompt_number": 33
    },
    {
     "cell_type": "markdown",
     "metadata": {},
     "source": [
      "Turns out I need to make the SVG files one at a time, so that I can manually move the CSS into the SVG file for each one. Otherwise, they'll all look the same as the last one made in the loop above."
     ]
    },
    {
     "cell_type": "code",
     "collapsed": false,
     "input": [
      "def make_choropleth(year, quality_type):\n",
      "    state_class = {}\n",
      "    \n",
      "    for state_code in code_to_state.keys():\n",
      "        ppg = avg_ppg[year][quality_type][state_code]\n",
      "        \n",
      "        if math.isnan(ppg):\n",
      "            state_class[state_code] = 7\n",
      "            continue\n",
      "        \n",
      "        if (ppg >= bins_2[0]) and (ppg < bins_2[1]):\n",
      "            state_class[state_code] = 0\n",
      "        elif (ppg >= bins_2[1]) and (ppg < bins_2[2]):\n",
      "            state_class[state_code] = 1\n",
      "        elif (ppg >= bins_2[2]) and (ppg < bins_2[3]):\n",
      "            state_class[state_code] = 2\n",
      "        elif (ppg >= bins_2[3]) and (ppg < bins_2[4]):\n",
      "            state_class[state_code] = 3\n",
      "        elif (ppg >= bins_2[4]) and (ppg < bins_2[5]):\n",
      "            state_class[state_code] = 4\n",
      "        elif (ppg >= bins_2[5]) and (ppg < bins_2[6]):\n",
      "            state_class[state_code] = 5\n",
      "        else:\n",
      "            state_class[state_code] = 6\n",
      "            \n",
      "    simplemapplot.make_us_state_map(data=state_class, colors=alt_color_classes, output_img=\"{}_{}_alt.svg\".format(year, quality_type))\n"
     ],
     "language": "python",
     "metadata": {},
     "outputs": [],
     "prompt_number": 34
    },
    {
     "cell_type": "code",
     "collapsed": false,
     "input": [
      "# make_choropleth('2010', 'low')"
     ],
     "language": "python",
     "metadata": {},
     "outputs": [],
     "prompt_number": 35
    },
    {
     "cell_type": "code",
     "collapsed": false,
     "input": [
      "# make_choropleth('2010', 'medium')"
     ],
     "language": "python",
     "metadata": {},
     "outputs": [],
     "prompt_number": 36
    },
    {
     "cell_type": "code",
     "collapsed": false,
     "input": [
      "# make_choropleth('2010', 'high')"
     ],
     "language": "python",
     "metadata": {},
     "outputs": [],
     "prompt_number": 37
    },
    {
     "cell_type": "code",
     "collapsed": false,
     "input": [
      "# make_choropleth('2011', 'low')"
     ],
     "language": "python",
     "metadata": {},
     "outputs": [],
     "prompt_number": 38
    },
    {
     "cell_type": "code",
     "collapsed": false,
     "input": [
      "# make_choropleth('2011', 'medium')"
     ],
     "language": "python",
     "metadata": {},
     "outputs": [],
     "prompt_number": 39
    },
    {
     "cell_type": "code",
     "collapsed": false,
     "input": [
      "# make_choropleth('2011', 'high')"
     ],
     "language": "python",
     "metadata": {},
     "outputs": [],
     "prompt_number": 40
    },
    {
     "cell_type": "code",
     "collapsed": false,
     "input": [
      "# make_choropleth('2012', 'low')"
     ],
     "language": "python",
     "metadata": {},
     "outputs": [],
     "prompt_number": 41
    },
    {
     "cell_type": "code",
     "collapsed": false,
     "input": [
      "# make_choropleth('2012', 'medium')"
     ],
     "language": "python",
     "metadata": {},
     "outputs": [],
     "prompt_number": 42
    },
    {
     "cell_type": "code",
     "collapsed": false,
     "input": [
      "# make_choropleth('2012', 'high')"
     ],
     "language": "python",
     "metadata": {},
     "outputs": [],
     "prompt_number": 43
    },
    {
     "cell_type": "code",
     "collapsed": false,
     "input": [
      "# make_choropleth('2013', 'low')"
     ],
     "language": "python",
     "metadata": {},
     "outputs": [],
     "prompt_number": 44
    },
    {
     "cell_type": "code",
     "collapsed": false,
     "input": [
      "# make_choropleth('2013', 'medium')"
     ],
     "language": "python",
     "metadata": {},
     "outputs": [],
     "prompt_number": 45
    },
    {
     "cell_type": "code",
     "collapsed": false,
     "input": [
      "make_choropleth('2013', 'high')"
     ],
     "language": "python",
     "metadata": {},
     "outputs": [
      {
       "output_type": "stream",
       "stream": "stdout",
       "text": [
        "Created 2013_high_alt.svg\n"
       ]
      }
     ],
     "prompt_number": 46
    },
    {
     "cell_type": "code",
     "collapsed": false,
     "input": [],
     "language": "python",
     "metadata": {},
     "outputs": [],
     "prompt_number": 46
    }
   ],
   "metadata": {}
  }
 ]
}