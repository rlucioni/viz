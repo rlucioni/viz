{
 "metadata": {
  "name": ""
 },
 "nbformat": 3,
 "nbformat_minor": 0,
 "worksheets": [
  {
   "cells": [
    {
     "cell_type": "code",
     "collapsed": false,
     "input": [
      "%matplotlib inline\n",
      "\n",
      "import pandas as pd\n",
      "import numpy as np\n",
      "import matplotlib.pyplot as plt\n",
      "import math\n",
      "import datetime\n",
      "import simplemapplot\n",
      "\n",
      "# set some nicer defaults for matplotlib\n",
      "from matplotlib import rcParams\n",
      "\n",
      "#these colors come from colorbrewer2.org. Each is an RGB triplet\n",
      "dark2_colors = [(0.10588235294117647, 0.6196078431372549, 0.4666666666666667),\n",
      "                (0.8509803921568627, 0.37254901960784315, 0.00784313725490196),\n",
      "                (0.4588235294117647, 0.4392156862745098, 0.7019607843137254),\n",
      "                (0.9058823529411765, 0.1607843137254902, 0.5411764705882353),\n",
      "                (0.4, 0.6509803921568628, 0.11764705882352941),\n",
      "                (0.9019607843137255, 0.6705882352941176, 0.00784313725490196),\n",
      "                (0.6509803921568628, 0.4627450980392157, 0.11372549019607843),\n",
      "                (0.4, 0.4, 0.4)]\n",
      "\n",
      "rcParams['figure.figsize'] = (10, 6)\n",
      "rcParams['figure.dpi'] = 150\n",
      "rcParams['axes.color_cycle'] = dark2_colors\n",
      "rcParams['lines.linewidth'] = 2\n",
      "rcParams['axes.grid'] = False\n",
      "rcParams['axes.facecolor'] = 'white'\n",
      "rcParams['font.size'] = 14\n",
      "rcParams['patch.edgecolor'] = 'none'\n",
      "rcParams['font.family'] = 'sans-serif'\n",
      "rcParams['font.sans-serif'] = 'Helvetica'\n",
      "\n",
      "def remove_border(axes=None, top=False, right=False, left=True, bottom=True):\n",
      "    \"\"\"\n",
      "    Minimize chartjunk by stripping out unnecessary plot borders and axis ticks\n",
      "    \n",
      "    The top/right/left/bottom keywords toggle whether the corresponding plot border is drawn\n",
      "    \"\"\"\n",
      "    ax = axes or plt.gca()\n",
      "    ax.spines['top'].set_visible(top)\n",
      "    ax.spines['right'].set_visible(right)\n",
      "    ax.spines['left'].set_visible(left)\n",
      "    ax.spines['bottom'].set_visible(bottom)\n",
      "    \n",
      "    #turn off all ticks\n",
      "    ax.yaxis.set_ticks_position('none')\n",
      "    ax.xaxis.set_ticks_position('none')\n",
      "    \n",
      "    #now re-enable visibles\n",
      "    if top:\n",
      "        ax.xaxis.tick_top()\n",
      "    if bottom:\n",
      "        ax.xaxis.tick_bottom()\n",
      "    if left:\n",
      "        ax.yaxis.tick_left()\n",
      "    if right:\n",
      "        ax.yaxis.tick_right()"
     ],
     "language": "python",
     "metadata": {},
     "outputs": [],
     "prompt_number": 21
    },
    {
     "cell_type": "markdown",
     "metadata": {},
     "source": [
      "---\n",
      "*css tweaks in this cell*\n",
      "<style>\n",
      "div.text_cell_render {\n",
      "    line-height: 150%;\n",
      "    font-size: 110%;\n",
      "    width: 800px;\n",
      "    margin-left:50px;\n",
      "    margin-right:auto;\n",
      "    }\n",
      "</style>"
     ]
    },
    {
     "cell_type": "code",
     "collapsed": false,
     "input": [
      "# testing SimpleMapPlot\n",
      "# example_colors = [\"#FC8D59\",\"#FFFFBF\",\"#99D594\"]\n",
      "# state_value = {\"TX\":2, \"WI\":1, \"IL\":1, \"AK\":0, \"MI\":0, \"HI\":2}\n",
      "# simplemapplot.make_us_state_map(data=state_value, colors=example_colors, output_img=\"test_map.svg\")"
     ],
     "language": "python",
     "metadata": {},
     "outputs": [],
     "prompt_number": 22
    },
    {
     "cell_type": "code",
     "collapsed": false,
     "input": [
      "to_grams = {\n",
      "    \"an ounce\": 28.3,\n",
      "    \"25 grams\": 25,\n",
      "    \"20 grams\": 20,\n",
      "    \"15 grams\": 15,\n",
      "    \"a half ounce\": 14.15,\n",
      "    \"10 grams\": 10,\n",
      "    \"a quarter\": 7.075,\n",
      "    \"5 grams\": 5,\n",
      "    \"an eighth\": 3.54,\n",
      "    \"a gram\": 1\n",
      "}"
     ],
     "language": "python",
     "metadata": {},
     "outputs": [],
     "prompt_number": 23
    },
    {
     "cell_type": "code",
     "collapsed": false,
     "input": [
      "code_to_state = {\n",
      "    'AK': 'Alaska',\n",
      "    'AL': 'Alabama',\n",
      "    'AR': 'Arkansas',\n",
      "    'AS': 'American Samoa',\n",
      "    'AZ': 'Arizona',\n",
      "    'CA': 'California',\n",
      "    'CO': 'Colorado',\n",
      "    'CT': 'Connecticut',\n",
      "    'DC': 'District of Columbia',\n",
      "    'DE': 'Delaware',\n",
      "    'FL': 'Florida',\n",
      "    'GA': 'Georgia',\n",
      "    'GU': 'Guam',\n",
      "    'HI': 'Hawaii',\n",
      "    'IA': 'Iowa',\n",
      "    'ID': 'Idaho',\n",
      "    'IL': 'Illinois',\n",
      "    'IN': 'Indiana',\n",
      "    'KS': 'Kansas',\n",
      "    'KY': 'Kentucky',\n",
      "    'LA': 'Louisiana',\n",
      "    'MA': 'Massachusetts',\n",
      "    'MD': 'Maryland',\n",
      "    'ME': 'Maine',\n",
      "    'MI': 'Michigan',\n",
      "    'MN': 'Minnesota',\n",
      "    'MO': 'Missouri',\n",
      "    'MP': 'Northern Mariana Islands',\n",
      "    'MS': 'Mississippi',\n",
      "    'MT': 'Montana',\n",
      "    'NA': 'National',\n",
      "    'NC': 'North Carolina',\n",
      "    'ND': 'North Dakota',\n",
      "    'NE': 'Nebraska',\n",
      "    'NH': 'New Hampshire',\n",
      "    'NJ': 'New Jersey',\n",
      "    'NM': 'New Mexico',\n",
      "    'NV': 'Nevada',\n",
      "    'NY': 'New York',\n",
      "    'OH': 'Ohio',\n",
      "    'OK': 'Oklahoma',\n",
      "    'OR': 'Oregon',\n",
      "    'PA': 'Pennsylvania',\n",
      "    'PR': 'Puerto Rico',\n",
      "    'RI': 'Rhode Island',\n",
      "    'SC': 'South Carolina',\n",
      "    'SD': 'South Dakota',\n",
      "    'TN': 'Tennessee',\n",
      "    'TX': 'Texas',\n",
      "    'UT': 'Utah',\n",
      "    'VA': 'Virginia',\n",
      "    'VI': 'Virgin Islands',\n",
      "    'VT': 'Vermont',\n",
      "    'WA': 'Washington',\n",
      "    'WI': 'Wisconsin',\n",
      "    'WV': 'West Virginia',\n",
      "    'WY': 'Wyoming'\n",
      "}"
     ],
     "language": "python",
     "metadata": {},
     "outputs": [],
     "prompt_number": 24
    },
    {
     "cell_type": "code",
     "collapsed": false,
     "input": [
      "state_to_code = dict((v,k) for k,v in code_to_state.iteritems())"
     ],
     "language": "python",
     "metadata": {},
     "outputs": [],
     "prompt_number": 25
    },
    {
     "cell_type": "markdown",
     "metadata": {},
     "source": [
      "First step is to clean Hawaii and Alaska raw data, and add that to the cleaned data."
     ]
    },
    {
     "cell_type": "code",
     "collapsed": false,
     "input": [
      "# hi_ak_raw = pd.read_csv('data/hi_ak_raw.csv')"
     ],
     "language": "python",
     "metadata": {},
     "outputs": [],
     "prompt_number": 26
    },
    {
     "cell_type": "code",
     "collapsed": false,
     "input": [
      "# hi_ak_raw.head()"
     ],
     "language": "python",
     "metadata": {},
     "outputs": [],
     "prompt_number": 27
    },
    {
     "cell_type": "code",
     "collapsed": false,
     "input": [
      "# hi_ak_raw.shape"
     ],
     "language": "python",
     "metadata": {},
     "outputs": [],
     "prompt_number": 28
    },
    {
     "cell_type": "code",
     "collapsed": false,
     "input": [
      "# cities = [location.split(',')[0] for location in hi_ak_raw.location]\n",
      "# state_names = [location.split(',')[1] for location in hi_ak_raw.location]\n",
      "# state_codes = [state_to_code[name] for name in state_names]\n",
      "\n",
      "# prices = [price.split('$')[1] for price in hi_ak_raw.price]\n",
      "# amounts = [to_grams[amount] for amount in hi_ak_raw.amount]\n",
      "# ppgs = [round(float(price)/amount, 2) for price, amount in zip(prices, amounts)]\n",
      "\n",
      "# qualities = [quality.split()[0] for quality in hi_ak_raw.quality]\n",
      "\n",
      "# dates = [str(datetime.datetime.strptime(date, \"%B %d, %Y\").date()) for date in hi_ak_raw.date]\n",
      "    \n",
      "# hi_ak_clean = pd.DataFrame({\n",
      "#     'city': cities, \n",
      "#     'state': state_codes, \n",
      "#     'price': prices, \n",
      "#     'amount': amounts,\n",
      "#     'quality': qualities,\n",
      "#     'date': dates,\n",
      "#     'ppg': ppgs,\n",
      "#     'state.name': state_names\n",
      "# })"
     ],
     "language": "python",
     "metadata": {},
     "outputs": [],
     "prompt_number": 29
    },
    {
     "cell_type": "code",
     "collapsed": false,
     "input": [
      "# hi_ak_clean.head()"
     ],
     "language": "python",
     "metadata": {},
     "outputs": [],
     "prompt_number": 30
    },
    {
     "cell_type": "code",
     "collapsed": false,
     "input": [
      "# hi_ak_clean.to_csv('data/hi_ak_clean.csv')"
     ],
     "language": "python",
     "metadata": {},
     "outputs": [],
     "prompt_number": 31
    },
    {
     "cell_type": "markdown",
     "metadata": {},
     "source": [
      "Next, combine with cleaned data from other states, dropping `lat` and `lon`."
     ]
    },
    {
     "cell_type": "code",
     "collapsed": false,
     "input": [
      "# partial_clean_data = pd.read_csv('data/clean.csv')"
     ],
     "language": "python",
     "metadata": {},
     "outputs": [],
     "prompt_number": 32
    },
    {
     "cell_type": "code",
     "collapsed": false,
     "input": [
      "# partial_clean_data.head()"
     ],
     "language": "python",
     "metadata": {},
     "outputs": [],
     "prompt_number": 33
    },
    {
     "cell_type": "code",
     "collapsed": false,
     "input": [
      "# partial_clean_data.shape"
     ],
     "language": "python",
     "metadata": {},
     "outputs": [],
     "prompt_number": 34
    },
    {
     "cell_type": "code",
     "collapsed": false,
     "input": [
      "# trimmed_partial_clean_data = partial_clean_data.drop('lat',1)\n",
      "# trimmed_partial_clean_data = trimmed_partial_clean_data.drop('lon',1)\n",
      "# trimmed_partial_clean_data.head()"
     ],
     "language": "python",
     "metadata": {},
     "outputs": [],
     "prompt_number": 35
    },
    {
     "cell_type": "code",
     "collapsed": false,
     "input": [
      "# trimmed_partial_clean_data.shape"
     ],
     "language": "python",
     "metadata": {},
     "outputs": [],
     "prompt_number": 36
    },
    {
     "cell_type": "code",
     "collapsed": false,
     "input": [
      "# clean_data = trimmed_partial_clean_data.append(hi_ak_clean, ignore_index=True)\n",
      "# clean_data.head()"
     ],
     "language": "python",
     "metadata": {},
     "outputs": [],
     "prompt_number": 37
    },
    {
     "cell_type": "code",
     "collapsed": false,
     "input": [
      "# clean_data.shape"
     ],
     "language": "python",
     "metadata": {},
     "outputs": [],
     "prompt_number": 38
    },
    {
     "cell_type": "code",
     "collapsed": false,
     "input": [
      "# clean_data.to_csv('data/complete_clean.csv')"
     ],
     "language": "python",
     "metadata": {},
     "outputs": [],
     "prompt_number": 39
    },
    {
     "cell_type": "markdown",
     "metadata": {},
     "source": [
      "Read in complete cleaned data here, to avoid re-cleaning every time this notebook is opened."
     ]
    },
    {
     "cell_type": "code",
     "collapsed": false,
     "input": [
      "clean_data = pd.read_csv('data/complete_clean.csv')\n",
      "clean_data = clean_data.drop('Unnamed: 0',1)\n",
      "clean_data.head()"
     ],
     "language": "python",
     "metadata": {},
     "outputs": [
      {
       "html": [
        "<div style=\"max-height:1000px;max-width:1500px;overflow:auto;\">\n",
        "<table border=\"1\" class=\"dataframe\">\n",
        "  <thead>\n",
        "    <tr style=\"text-align: right;\">\n",
        "      <th></th>\n",
        "      <th>amount</th>\n",
        "      <th>city</th>\n",
        "      <th>date</th>\n",
        "      <th>ppg</th>\n",
        "      <th>price</th>\n",
        "      <th>quality</th>\n",
        "      <th>state</th>\n",
        "      <th>state.name</th>\n",
        "    </tr>\n",
        "  </thead>\n",
        "  <tbody>\n",
        "    <tr>\n",
        "      <th>0</th>\n",
        "      <td>  7.075</td>\n",
        "      <td>  Annandale</td>\n",
        "      <td> 2010-09-02</td>\n",
        "      <td> 14.13</td>\n",
        "      <td> 100</td>\n",
        "      <td>   high</td>\n",
        "      <td> VA</td>\n",
        "      <td>       Virginia</td>\n",
        "    </tr>\n",
        "    <tr>\n",
        "      <th>1</th>\n",
        "      <td> 28.300</td>\n",
        "      <td>     Auburn</td>\n",
        "      <td> 2010-09-02</td>\n",
        "      <td>  2.12</td>\n",
        "      <td>  60</td>\n",
        "      <td>   high</td>\n",
        "      <td> AL</td>\n",
        "      <td>        Alabama</td>\n",
        "    </tr>\n",
        "    <tr>\n",
        "      <th>2</th>\n",
        "      <td> 28.300</td>\n",
        "      <td>     Austin</td>\n",
        "      <td> 2010-09-02</td>\n",
        "      <td>  2.12</td>\n",
        "      <td>  60</td>\n",
        "      <td> medium</td>\n",
        "      <td> TX</td>\n",
        "      <td>          Texas</td>\n",
        "    </tr>\n",
        "    <tr>\n",
        "      <th>3</th>\n",
        "      <td> 28.300</td>\n",
        "      <td> Belleville</td>\n",
        "      <td> 2010-09-02</td>\n",
        "      <td> 14.13</td>\n",
        "      <td> 400</td>\n",
        "      <td>   high</td>\n",
        "      <td> IL</td>\n",
        "      <td>       Illinois</td>\n",
        "    </tr>\n",
        "    <tr>\n",
        "      <th>4</th>\n",
        "      <td>  3.540</td>\n",
        "      <td>      Boone</td>\n",
        "      <td> 2010-09-02</td>\n",
        "      <td> 15.54</td>\n",
        "      <td>  55</td>\n",
        "      <td>   high</td>\n",
        "      <td> NC</td>\n",
        "      <td> North Carolina</td>\n",
        "    </tr>\n",
        "  </tbody>\n",
        "</table>\n",
        "</div>"
       ],
       "metadata": {},
       "output_type": "pyout",
       "prompt_number": 41,
       "text": [
        "   amount        city        date    ppg  price quality state      state.name\n",
        "0   7.075   Annandale  2010-09-02  14.13    100    high    VA        Virginia\n",
        "1  28.300      Auburn  2010-09-02   2.12     60    high    AL         Alabama\n",
        "2  28.300      Austin  2010-09-02   2.12     60  medium    TX           Texas\n",
        "3  28.300  Belleville  2010-09-02  14.13    400    high    IL        Illinois\n",
        "4   3.540       Boone  2010-09-02  15.54     55    high    NC  North Carolina"
       ]
      }
     ],
     "prompt_number": 41
    },
    {
     "cell_type": "code",
     "collapsed": false,
     "input": [],
     "language": "python",
     "metadata": {},
     "outputs": []
    }
   ],
   "metadata": {}
  }
 ]
}